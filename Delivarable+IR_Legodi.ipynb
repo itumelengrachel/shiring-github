{
 "cells": [
  {
   "cell_type": "markdown",
   "metadata": {},
   "source": [
    "Delivarable, ITUMELENG RACHEL LEGODI\n",
    "\n",
    "EXPLORE DATA SCIENCE ACADEMY"
   ]
  },
  {
   "cell_type": "code",
   "execution_count": null,
   "metadata": {
    "collapsed": true
   },
   "outputs": [],
   "source": [
    "\n",
    "def future_value(P,i,n):\n",
    "    #calculate the customer's savings at retirement if they:\n",
    "    #invest an unknown annual amount(P)\n",
    "    #invest this uknown annual amount(P)\n",
    "    #invest this unknown amount at the end of each year(n)\n",
    "    #earn an unknown annual interest rate(i)\n",
    "    #interest rate is dicvided by 100\n",
    "    FV=P*(((1+i)**n-1)/n)\n",
    "    print(FV)\n",
    "    return FV"
   ]
  },
  {
   "cell_type": "code",
   "execution_count": 2,
   "metadata": {
    "collapsed": true
   },
   "outputs": [],
   "source": [
    "\n",
    "def future_value(P,i,n):\n",
    "    #calculate customer's savings at retirement if they:\n",
    "    #Invest an unknown amount (P)\n",
    "    #invest this amount at the start of each month\n",
    "    #invest until their chosen retirement age\n",
    "    #number of payments(n)=number of payments per year*numner of years\n",
    "    #earn an uknown annual interest rate on their savings(i)\n",
    "    #i=interest rate/100\n",
    "    #have just had their birthday\n",
    "    FV=(1+r)*P*((1+i)**n-1/r)\n",
    "    print(FV)\n",
    "    return FV"
   ]
  },
  {
   "cell_type": "code",
   "execution_count": 3,
   "metadata": {
    "collapsed": true
   },
   "outputs": [],
   "source": [
    "\n",
    "def number_of_payments(FV,i,P):\n",
    "    #calculate at what birthday your customers can retire if they:\n",
    "    #Invest an unknown amount at the start of every year (P)\n",
    "    #know they need a certain amount of savings in the future(FV)\n",
    "    #earn an unknown annual interest rate on their savings(i)\n",
    "    #i=interest rate/100\n",
    "    #have just had their birthday\n",
    "    #retirement birthday= current age+n\n",
    "    n=math.log*((1+FV*i)/P)/math.log(1+i)\n",
    "    print(n)\n",
    "    return n"
   ]
  },
  {
   "cell_type": "code",
   "execution_count": 4,
   "metadata": {
    "collapsed": true
   },
   "outputs": [],
   "source": [
    "\n",
    "def present_value(P,i,n):\n",
    "    #calculate customer's maximum  home loan if they:\n",
    "    #can only pay an annual amount at the end of every year(P)\n",
    "    #pay this monthly amount for an unknown number of years(n)\n",
    "    #get charged an unknown interest raye on their loan amount(i)\n",
    "    PV=P*((1-(1+i)**-n)/i)\n",
    "    print(PV)\n",
    "    return PV"
   ]
  },
  {
   "cell_type": "code",
   "execution_count": 5,
   "metadata": {
    "collapsed": true
   },
   "outputs": [],
   "source": [
    "\n",
    "def present_value(P,i,n):\n",
    "    #calculate the customer's maximum home loan if they:\n",
    "    #can only pay an annual amount at the end of every year(n)\n",
    "    #pay this monthly amount until they turn 65 years\n",
    "    #n=(65-current age)*number of payments per year\n",
    "    #get charged an unknown annual interrst rate on their loan amount(i)\n",
    "    #i=interest rate/100\n",
    "    #have just had their birthday\n",
    "    PV=P*((1-(1+i)**-n)/i)\n",
    "    print(PV)\n",
    "    return PV"
   ]
  },
  {
   "cell_type": "code",
   "execution_count": 6,
   "metadata": {
    "collapsed": true
   },
   "outputs": [],
   "source": [
    "\n",
    "def number_of_payments(PV,P,i):\n",
    "    #calculate the minimum number of years left until the customer pays off their loan if they:\n",
    "    #pay a regular amount at the start of each period(P)\n",
    "    #get charged an unknown periodic interest rate on their savings(i)\n",
    "    #i=interest/100\n",
    "    #owe a specific amount on the loan(PV)\n",
    "    n=math.log*(((1-PV*i)/P)**-1)/math.log(1+i)\n",
    "    print (n)\n",
    "    return n"
   ]
  },
  {
   "cell_type": "code",
   "execution_count": null,
   "metadata": {
    "collapsed": true
   },
   "outputs": [],
   "source": [
    "\n",
    "def future_value(P,i,g,n):\n",
    "    #calculate customer's savings at retirement if they:\n",
    "    #invest an unknown amount at the end of every year(P)\n",
    "    #earn an unknown annual interest rate(i)\n",
    "    #i is in decimal point\n",
    "    #double their annual investment amount every second year\n",
    "    #growth rate=g and is in decimal point\n",
    "    FV=P*(((1+i)**n-(1+g)**n)/(i-g))\n",
    "    print(FV)\n",
    "    return FV"
   ]
  }
 ],
 "metadata": {
  "kernelspec": {
   "display_name": "Python 3",
   "language": "python",
   "name": "python3"
  },
  "language_info": {
   "codemirror_mode": {
    "name": "ipython",
    "version": 3
   },
   "file_extension": ".py",
   "mimetype": "text/x-python",
   "name": "python",
   "nbconvert_exporter": "python",
   "pygments_lexer": "ipython3",
   "version": "3.6.3"
  }
 },
 "nbformat": 4,
 "nbformat_minor": 2
}
